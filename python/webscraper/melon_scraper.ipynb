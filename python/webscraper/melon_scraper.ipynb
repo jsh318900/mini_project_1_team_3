{
 "cells": [
  {
   "cell_type": "code",
   "execution_count": 1,
   "id": "c65a58f5",
   "metadata": {},
   "outputs": [],
   "source": [
    "import webscraper_seohyun as scraper\n",
    "from selenium.webdriver.common.by import By\n",
    "from selenium.webdriver.support.ui import WebDriverWait\n",
    "from selenium.webdriver.support import expected_conditions as EC\n",
    "from bs4 import BeautifulSoup"
   ]
  },
  {
   "cell_type": "code",
   "execution_count": 2,
   "id": "1b84e302",
   "metadata": {
    "scrolled": true
   },
   "outputs": [
    {
     "data": {
      "text/plain": [
       "{'id': 2117748,\n",
       " 'name': 'Lollipop',\n",
       " 'singers': [198094, 406712],\n",
       " 'genre': '댄스',\n",
       " 'num_like': 29246,\n",
       " 'num_comment': 143}"
      ]
     },
     "execution_count": 2,
     "metadata": {},
     "output_type": "execute_result"
    }
   ],
   "source": [
    "scraper.scrap_song_page(2117748)"
   ]
  },
  {
   "cell_type": "code",
   "execution_count": 4,
   "id": "534fa5e0",
   "metadata": {
    "scrolled": true
   },
   "outputs": [
    {
     "name": "stdout",
     "output_type": "stream",
     "text": [
      "('Great Expectation 조PD Pt. 2: Love And Life', ['조pd (ZoPD)'], '2004.03.23', 777, 4.6, 665, 197, [\"melon.link.goSongDetail('518616');\", \"melon.link.goSongDetail('518617');\", \"melon.link.goSongDetail('518618');\", \"melon.link.goSongDetail('518619');\", \"melon.link.goSongDetail('518620');\", \"melon.link.goSongDetail('518621');\", \"melon.link.goSongDetail('518622');\", \"melon.link.goSongDetail('518623');\", \"melon.link.goSongDetail('518624');\", \"melon.link.goSongDetail('518625');\", \"melon.link.goSongDetail('518626');\", \"melon.link.goSongDetail('518627');\", \"melon.link.goSongDetail('518628');\"])\n"
     ]
    }
   ],
   "source": [
    "def extract_album_page(source):\n",
    "    soup = BeautifulSoup(source, 'lxml')\n",
    "    name = soup.select_one('div.song_name').text.split('\\n')[2].strip()\n",
    "    artists = soup.select('div.artist>a.artist_name>span')\n",
    "    artists = [x.text for x in artists if x.text != '']\n",
    "    release_date = soup.select_one('div.meta>dl>dd:nth-child(2)').text\n",
    "    num_like = int(soup.select_one('#d_like_count').text.replace(',', ''))\n",
    "    rating = float(soup.select_one('#gradPointLayer').text)\n",
    "    num_rating = int(soup.select_one('#gradCountLayer').text.replace(',', '')[:-1])\n",
    "    num_comments = int(soup.select_one('#revCnt').text.replace(',', '')[:-1])\n",
    "    \n",
    "    song_list = [a['href'] for a in soup.select('a.song_info')]\n",
    "    song_list = [x[11:] for x in song_list]\n",
    "    \n",
    "    return name, artists, release_date, num_like, rating, num_rating, num_comments, song_list\n",
    "\n",
    "def extract_artist_page(source):\n",
    "    soup = BeautifulSoup(source, 'lxml')\n",
    "    name = soup.select_one('p.title_atist').text[5:]\n",
    "    \n",
    "    if '\\xa0' in name:\n",
    "        name = name.split('\\xa0')[0]\n",
    "    \n",
    "    num_fans = int(soup.select_one('#d_like_count').text.replace(',', '')) \n",
    "    columns = soup.select('dt')\n",
    "    debut_date, artist_type, company_name = None, None, None\n",
    "    for c in columns:\n",
    "        if c.text == '데뷔':\n",
    "            debut = list(c.find_next_sibling().children)[1].text\n",
    "            if '\\n' in debut:\n",
    "                debut_date = debut.split()[0]\n",
    "            else:\n",
    "                debut_date = debut\n",
    "        elif c.text == '활동유형':\n",
    "            artist_type = c.find_next_sibling().text\n",
    "        elif c.text == '소속사':\n",
    "            company_name = c.find_next_sibling().text\n",
    "    \n",
    "    return name, artist_type, company_name, debut_date, num_fans\n",
    "\n",
    "year = 2004\n",
    "\"\"\"\n",
    "driver = scraper.navigate_to_year_chart(year)\n",
    "song_details = driver.find_elements_by_class_name('btn_icon_detail')\n",
    "scripts = [s[11:] for s in [a.get_attribute('href') for a in song_details]]\n",
    "songs = []\n",
    "for s in scripts:\n",
    "    driver.execute_script(s)    \n",
    "    song_name = WebDriverWait(driver, 10).until(EC.presence_of_element_located((By.CLASS_NAME, 'song_name'))).text.strip()\n",
    "    genre = driver.find_element_by_css_selector('div.meta > dl > dd:nth-child(6)').text.strip()\n",
    "    review_cnt = driver.find_element_by_id('revCnt').text.replace(',', '').replace('개', '')\n",
    "    songs.append((song_name, genre, review_cnt))\n",
    "\n",
    "driver.quit()\n",
    "\"\"\"\n",
    "driver = scraper.navigate_to_year_chart(year)\n",
    "\n",
    "artist_album_details = driver.find_elements_by_css_selector('a.fc_mgray')\n",
    "scripts = [s[11:] for s in [a.get_attribute('href') for a in artist_album_details]]\n",
    "artist = []\n",
    "albums = []\n",
    "\n",
    "for s in scripts:\n",
    "    driver.execute_script(s)\n",
    "    if 'Album' in s:\n",
    "        albums.append(extract_album_page(driver.page_source))\n",
    "        break\n",
    "    elif 'Artist' in s:\n",
    "        artist.append(extract_artist_page(driver.page_source))\n",
    "    \n",
    "\n",
    "\n",
    "\"\"\"\n",
    "for a in set(songs):\n",
    "    print(a)\n",
    "\n",
    "for a in set(artist):\n",
    "    print(a)\n",
    "\"\"\"\n",
    "for a in albums:\n",
    "    print(a)\n",
    "\n",
    "driver.quit()"
   ]
  },
  {
   "cell_type": "code",
   "execution_count": 3,
   "id": "cedff6ee",
   "metadata": {},
   "outputs": [
    {
     "data": {
      "text/plain": [
       "[('조pd (ZoPD)', '솔로', '스타덤', '1991.01', 1362)]"
      ]
     },
     "execution_count": 3,
     "metadata": {},
     "output_type": "execute_result"
    }
   ],
   "source": [
    "artist"
   ]
  },
  {
   "cell_type": "code",
   "execution_count": null,
   "id": "08ca4e6f",
   "metadata": {},
   "outputs": [],
   "source": []
  }
 ],
 "metadata": {
  "kernelspec": {
   "display_name": "Python 3",
   "language": "python",
   "name": "python3"
  },
  "language_info": {
   "codemirror_mode": {
    "name": "ipython",
    "version": 3
   },
   "file_extension": ".py",
   "mimetype": "text/x-python",
   "name": "python",
   "nbconvert_exporter": "python",
   "pygments_lexer": "ipython3",
   "version": "3.9.13"
  }
 },
 "nbformat": 4,
 "nbformat_minor": 5
}
